{
 "cells": [
  {
   "cell_type": "code",
   "execution_count": 1,
   "metadata": {},
   "outputs": [],
   "source": [
    "import random\n",
    "import copy\n",
    "import json\n",
    "from itertools import tee\n",
    "from tqdm import trange\n",
    "from board import Board\n",
    "from player import Player"
   ]
  },
  {
   "cell_type": "code",
   "execution_count": 2,
   "metadata": {},
   "outputs": [],
   "source": [
    "def pairwise(iterable):\n",
    "    a, b = tee(iterable)\n",
    "    next(b, None)\n",
    "    return zip(a, b)"
   ]
  },
  {
   "cell_type": "code",
   "execution_count": 3,
   "metadata": {},
   "outputs": [],
   "source": [
    "epsilon = 0\n",
    "alpha = 0.5"
   ]
  },
  {
   "cell_type": "markdown",
   "metadata": {},
   "source": [
    "### Train the player"
   ]
  },
  {
   "cell_type": "code",
   "execution_count": 4,
   "metadata": {},
   "outputs": [
    {
     "name": "stderr",
     "output_type": "stream",
     "text": [
      "100%|██████████| 10/10 [00:00<00:00, 4685.85it/s]\n"
     ]
    }
   ],
   "source": [
    "board = Board()\n",
    "player = Player(epsilon, alpha)\n",
    "\n",
    "# number of training matches\n",
    "num_train = 10\n",
    "\n",
    "for n in trange(num_train):\n",
    "    # reset board for new game\n",
    "    board.reset()\n",
    "    # store the board states to backpropagate value when game ends\n",
    "    board_states = []\n",
    "    \n",
    "    # 1/2 of the time o-player plays first\n",
    "    if random.random() < 0.5:\n",
    "        # o-player starts in random location\n",
    "        board.add_o(random.choice([i for i in range(9)]))\n",
    "        \n",
    "    # continue playing until board is full or someone won\n",
    "    while not board.is_full():\n",
    "        # player 'x' plays\n",
    "        action = player.choose_action(board.get_state())\n",
    "        # update board\n",
    "        board.add_x(action)\n",
    "        # store board state\n",
    "        board_states.append(board.get_state())\n",
    "        # check if player won\n",
    "        if player.has_won(board.get_state()): break\n",
    "        # if nobody won yet, inverse the board\n",
    "        board.inverse()\n",
    "\n",
    "    # backpropagate value of game to update the policy\n",
    "    board_states.reverse()\n",
    "    for state_k, state_km1 in pairwise(board_states):\n",
    "        player.update_values(state_km1, state_k)\n",
    "    player.reduce_alpha()\n",
    "    # player.set_alpha(1/(n+1))\n",
    "        \n",
    "# save player's policy\n",
    "player.save_policy(\"params/policy.json\")"
   ]
  },
  {
   "cell_type": "code",
   "execution_count": 5,
   "metadata": {},
   "outputs": [
    {
     "data": {
      "text/plain": [
       "0.4950224401048741"
      ]
     },
     "execution_count": 5,
     "metadata": {},
     "output_type": "execute_result"
    }
   ],
   "source": [
    "player.alpha"
   ]
  },
  {
   "cell_type": "markdown",
   "metadata": {},
   "source": [
    "### Test if the player learned the optimal strategy"
   ]
  },
  {
   "cell_type": "code",
   "execution_count": 6,
   "metadata": {
    "scrolled": true
   },
   "outputs": [
    {
     "name": "stdout",
     "output_type": "stream",
     "text": [
      "Finished testing\n",
      "   number of draws :  2  of  4\n"
     ]
    }
   ],
   "source": [
    "# no random actions anymore\n",
    "player.playing_mode()\n",
    "player.load_policy(\"params/policy_10M_training.json\")\n",
    "\n",
    "o_indices = [0,2,6,8]\n",
    "# number of training matches\n",
    "num_test = len(o_indices)\n",
    "# number of matches that finished in a draw\n",
    "num_draw = 0\n",
    "\n",
    "for o_idx in o_indices:\n",
    "\n",
    "    # reset board for new game\n",
    "    board.reset()\n",
    "\n",
    "    # o-player starts in random corner location\n",
    "    board.add_o(o_idx)\n",
    "\n",
    "    is_draw = True\n",
    "    while not board.is_full():\n",
    "        # player 'x' plays\n",
    "        action = player.choose_action(board.get_state())\n",
    "        # update board\n",
    "        board.add_x(action)\n",
    "        # check if player won\n",
    "        if player.has_won(board.get_state()): \n",
    "            is_draw = False\n",
    "            # board.print()\n",
    "            break\n",
    "        # if nobody won yet, inverse the board\n",
    "        board.inverse()\n",
    "\n",
    "    if is_draw:\n",
    "        num_draw += 1\n",
    "\n",
    "print(\"Finished testing\")\n",
    "print('   number of draws : ', num_draw, \" of \", num_test)"
   ]
  },
  {
   "cell_type": "markdown",
   "metadata": {},
   "source": [
    "### Play against it"
   ]
  },
  {
   "cell_type": "code",
   "execution_count": 36,
   "metadata": {},
   "outputs": [],
   "source": [
    "board.reset()"
   ]
  },
  {
   "cell_type": "code",
   "execution_count": 48,
   "metadata": {},
   "outputs": [
    {
     "name": "stdout",
     "output_type": "stream",
     "text": [
      "\n",
      "['x', 'x', 'o']\n",
      "['o', 'o', 'x']\n",
      "['x', 'o', '-']\n",
      "\n"
     ]
    }
   ],
   "source": [
    "o_idx = 7    # None or index\n",
    "\n",
    "# reset board for new game\n",
    "if board.is_full():\n",
    "    board.reset()\n",
    "\n",
    "# o-player starts in random corner location\n",
    "board.add_o(o_idx)\n",
    "\n",
    "if not board.is_full():\n",
    "    # player 'x' plays\n",
    "    action = player.choose_action(board.get_state())\n",
    "\n",
    "    # update board\n",
    "    board.add_x(action)\n",
    "\n",
    "board.print()"
   ]
  },
  {
   "cell_type": "code",
   "execution_count": 45,
   "metadata": {},
   "outputs": [
    {
     "data": {
      "text/plain": [
       "0.31520587085280605"
      ]
     },
     "execution_count": 45,
     "metadata": {},
     "output_type": "execute_result"
    }
   ],
   "source": [
    "player.states.get('----o---x')"
   ]
  },
  {
   "cell_type": "code",
   "execution_count": null,
   "metadata": {},
   "outputs": [],
   "source": []
  }
 ],
 "metadata": {
  "kernelspec": {
   "display_name": "Python 3",
   "language": "python",
   "name": "python3"
  },
  "language_info": {
   "codemirror_mode": {
    "name": "ipython",
    "version": 3
   },
   "file_extension": ".py",
   "mimetype": "text/x-python",
   "name": "python",
   "nbconvert_exporter": "python",
   "pygments_lexer": "ipython3",
   "version": "3.6.9"
  }
 },
 "nbformat": 4,
 "nbformat_minor": 4
}
