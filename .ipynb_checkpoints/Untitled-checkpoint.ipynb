{
 "cells": [
  {
   "cell_type": "markdown",
   "metadata": {},
   "source": [
    "### Import useful libraries"
   ]
  },
  {
   "cell_type": "code",
   "execution_count": 1,
   "metadata": {},
   "outputs": [],
   "source": [
    "import random\n",
    "from datetime import datetime\n",
    "from tqdm import trange\n",
    "from board import Board\n",
    "from player import Player"
   ]
  },
  {
   "cell_type": "markdown",
   "metadata": {},
   "source": [
    "### Test if the player learned the optimal strategy"
   ]
  },
  {
   "cell_type": "code",
   "execution_count": 2,
   "metadata": {},
   "outputs": [],
   "source": [
    "me     = 'o'\n",
    "agent  = 'x'\n",
    "\n",
    "board  = Board(nrow=3, ncol=3, sign_play=[agent,me])\n",
    "player = Player(sign=agent)"
   ]
  },
  {
   "cell_type": "code",
   "execution_count": 17,
   "metadata": {},
   "outputs": [],
   "source": [
    "player.load_args(\"params/player-201024-1616\")\n",
    "player.playing_mode()\n",
    "# player.training_mode()"
   ]
  },
  {
   "cell_type": "code",
   "execution_count": 6,
   "metadata": {},
   "outputs": [
    {
     "name": "stderr",
     "output_type": "stream",
     "text": [
      "100%|██████████| 1000/1000 [00:10<00:00, 98.76it/s]"
     ]
    },
    {
     "name": "stdout",
     "output_type": "stream",
     "text": [
      "Finished testing\n",
      "   number of draws :  463  of  1000\n"
     ]
    },
    {
     "name": "stderr",
     "output_type": "stream",
     "text": [
      "\n"
     ]
    }
   ],
   "source": [
    "# number of testing matches\n",
    "num_test = 1000\n",
    "# number of matches that finished in a draw\n",
    "num_draw = 0\n",
    "\n",
    "for n in trange(num_test):\n",
    "    # reset board for new game\n",
    "    board.reset()\n",
    "    \n",
    "    if random.random() < 0.5:\n",
    "        # start in random location\n",
    "        i = random.choices(range(board.get_nrow()))[0]\n",
    "        j = random.choices(range(board.get_nrow()))[0]\n",
    "        board.add(me, row=i, col=j)\n",
    "\n",
    "    # assume the game will end in a draw\n",
    "    num_draw += 1\n",
    "    while not board.is_full():\n",
    "        # RL agent chooses an action\n",
    "        action = player.choose_action(board)\n",
    "        # update board\n",
    "        board.add(sign=agent, row=action[0], col=action[1])\n",
    "        # check if RL agent won\n",
    "        if board.is_won(): \n",
    "            num_draw -= 1\n",
    "            break\n",
    "        # if nobody won yet, inverse the board\n",
    "        board.inverse()\n",
    "\n",
    "print(\"Finished testing\")\n",
    "print('   number of draws : ', num_draw, \" of \", num_test)"
   ]
  },
  {
   "cell_type": "markdown",
   "metadata": {},
   "source": [
    "### Play against it"
   ]
  },
  {
   "cell_type": "code",
   "execution_count": 21,
   "metadata": {},
   "outputs": [],
   "source": [
    "board.reset()"
   ]
  },
  {
   "cell_type": "code",
   "execution_count": 23,
   "metadata": {},
   "outputs": [
    {
     "name": "stdout",
     "output_type": "stream",
     "text": [
      "\n",
      " - - o \n",
      " - x - \n",
      " o - x \n"
     ]
    }
   ],
   "source": [
    "if board.is_full():\n",
    "    board.reset()\n",
    "    \n",
    "# None or array [row,col]\n",
    "my_pos = [0,2]\n",
    "if my_pos:\n",
    "    board.add(me, row=my_pos[0], col=my_pos[1])\n",
    "\n",
    "if (not board.is_full()) and (not board.is_won()):\n",
    "    # player 'x' plays\n",
    "    board = player.play(board)\n",
    "\n",
    "board.print()"
   ]
  },
  {
   "cell_type": "code",
   "execution_count": 9,
   "metadata": {},
   "outputs": [
    {
     "name": "stdout",
     "output_type": "stream",
     "text": [
      "0.3376566291318732\n",
      "0.4058909628931378\n",
      "0.3730916491088306\n",
      "0.359128154771456\n",
      "0.3710585464304482\n",
      "0.35551614580561286\n",
      "0.391848808938505\n",
      "0.3696389329362915\n"
     ]
    }
   ],
   "source": [
    "print(player.get_value('o---x-ox-'))\n",
    "print(player.get_value('o-oxx----'))\n",
    "print(player.get_value('-xo-x---o'))\n",
    "print(player.get_value('----xxo-o'))\n",
    "\n",
    "print(player.get_value('ox--x-o--'))\n",
    "print(player.get_value('---xx-o-o'))\n",
    "print(player.get_value('--o-x--xo'))\n",
    "print(player.get_value('o-o-xx---'))"
   ]
  },
  {
   "cell_type": "code",
   "execution_count": 7,
   "metadata": {},
   "outputs": [
    {
     "name": "stdout",
     "output_type": "stream",
     "text": [
      "0.3360004847737507\n",
      "0.3503852371982995\n",
      "0.3364975933992559\n",
      "0.31401597203152937\n",
      "0.3480994549796421\n",
      "0.3487923251962265\n",
      "0.3246547887676268\n",
      "0.37648410493662854\n"
     ]
    }
   ],
   "source": [
    "# for order = 0 expect value = 0.33\n",
    "# for order = 1 expect value = 0.23\n",
    "\n",
    "print(player.get_value('x-o-xx-oo'))\n",
    "print(player.get_value('--xox-oxo'))\n",
    "print(player.get_value('oo-xx-o-x'))\n",
    "print(player.get_value('oxo-xox--'))\n",
    "\n",
    "print(player.get_value('o-xxx-oo-'))\n",
    "print(player.get_value('x---xooxo'))\n",
    "print(player.get_value('-oo-xxx-o'))\n",
    "print(player.get_value('oxoox---x'))"
   ]
  },
  {
   "cell_type": "code",
   "execution_count": 8,
   "metadata": {},
   "outputs": [
    {
     "name": "stdout",
     "output_type": "stream",
     "text": [
      "0.7436764704587027\n",
      "0.759566217619852\n",
      "0.7411713228308788\n",
      "0.7539858457353724\n",
      "0.7417074080047255\n",
      "0.7794560514602216\n",
      "0.8099872864957541\n",
      "0.7557333430243729\n"
     ]
    }
   ],
   "source": [
    "# for order = 0 expect value = 0.75\n",
    "# for order = 1 expect value = 0.5\n",
    "\n",
    "print(player.get_value('o-xxoo-xx'))\n",
    "print(player.get_value('-xoxo-xox'))\n",
    "print(player.get_value('xx-ooxx-o'))\n",
    "print(player.get_value('xox-oxox-'))\n",
    "\n",
    "print(player.get_value('x-oooxxx-'))\n",
    "print(player.get_value('ox--oxxox'))\n",
    "print(player.get_value('-xxxooo-x'))\n",
    "print(player.get_value('xoxxo--xo'))"
   ]
  },
  {
   "cell_type": "code",
   "execution_count": 25,
   "metadata": {},
   "outputs": [
    {
     "name": "stdout",
     "output_type": "stream",
     "text": [
      "2.05568843079756e-10\n"
     ]
    }
   ],
   "source": [
    "# for order = 0 expect value = 0\n",
    "\n",
    "print(player.get_value('xxooxx-oo'))"
   ]
  }
 ],
 "metadata": {
  "kernelspec": {
   "display_name": "Python 3",
   "language": "python",
   "name": "python3"
  },
  "language_info": {
   "codemirror_mode": {
    "name": "ipython",
    "version": 3
   },
   "file_extension": ".py",
   "mimetype": "text/x-python",
   "name": "python",
   "nbconvert_exporter": "python",
   "pygments_lexer": "ipython3",
   "version": "3.6.9"
  }
 },
 "nbformat": 4,
 "nbformat_minor": 4
}
