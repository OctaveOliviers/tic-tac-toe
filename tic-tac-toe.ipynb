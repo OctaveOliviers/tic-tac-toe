{
 "cells": [
  {
   "cell_type": "markdown",
   "metadata": {},
   "source": [
    "### Import useful libraries"
   ]
  },
  {
   "cell_type": "code",
   "execution_count": 1,
   "metadata": {},
   "outputs": [],
   "source": [
    "import random\n",
    "from datetime import datetime\n",
    "from tqdm import trange\n",
    "from board import Board\n",
    "from player import Player"
   ]
  },
  {
   "cell_type": "markdown",
   "metadata": {},
   "source": [
    "### Train the player"
   ]
  },
  {
   "cell_type": "code",
   "execution_count": null,
   "metadata": {},
   "outputs": [
    {
     "name": "stderr",
     "output_type": "stream",
     "text": [
      " 29%|██▉       | 290372/1000000 [37:29<1:30:59, 129.99it/s]"
     ]
    }
   ],
   "source": [
    "me     = 'o'\n",
    "agent  = 'x'\n",
    "\n",
    "board  = Board(nrow=3, ncol=3, sign_play=[agent,me])\n",
    "player = Player(sign=agent)\n",
    "\n",
    "player.train(board, num_train=1000000, lr=0.5, lr_red_steps=10000, order=1)\n",
    "player.save_args(\"params/player-\"+datetime.now().strftime(\"%y%m%d-%H%M\"))\n",
    "\n",
    "# player.load_args(\"params/player-201016-1816\")\n",
    "# player.get_state2value()"
   ]
  },
  {
   "cell_type": "markdown",
   "metadata": {},
   "source": [
    "### Test if the player learned the optimal strategy"
   ]
  },
  {
   "cell_type": "code",
   "execution_count": 3,
   "metadata": {
    "scrolled": true
   },
   "outputs": [
    {
     "name": "stderr",
     "output_type": "stream",
     "text": [
      "100%|██████████| 100/100 [00:00<00:00, 171.33it/s]"
     ]
    },
    {
     "name": "stdout",
     "output_type": "stream",
     "text": [
      "Finished testing\n",
      "   number of draws :  12  of  100\n"
     ]
    },
    {
     "name": "stderr",
     "output_type": "stream",
     "text": [
      "\n"
     ]
    }
   ],
   "source": [
    "# number of testing matches\n",
    "num_test = 100\n",
    "# number of matches that finished in a draw\n",
    "num_draw = 0\n",
    "\n",
    "for n in trange(num_test):\n",
    "    # reset board for new game\n",
    "    board.reset()\n",
    "    \n",
    "    if random.random() < 0.5:\n",
    "        # start in random location\n",
    "        i = random.choices(range(board.get_nrow()))[0]\n",
    "        j = random.choices(range(board.get_nrow()))[0]\n",
    "        board.add(me, row=i, col=j)\n",
    "\n",
    "    # assume the game will end in a draw\n",
    "    num_draw += 1\n",
    "    while not board.is_full():\n",
    "        # RL agent chooses an action\n",
    "        action = player.choose_action(board)\n",
    "        # update board\n",
    "        board.add(sign=agent, row=action[0], col=action[1])\n",
    "        # check if RL agent won\n",
    "        if board.is_won(): \n",
    "            num_draw -= 1\n",
    "            break\n",
    "        # if nobody won yet, inverse the board\n",
    "        board.inverse()\n",
    "\n",
    "print(\"Finished testing\")\n",
    "print('   number of draws : ', num_draw, \" of \", num_test)"
   ]
  },
  {
   "cell_type": "markdown",
   "metadata": {},
   "source": [
    "### Play against it"
   ]
  },
  {
   "cell_type": "code",
   "execution_count": 3,
   "metadata": {},
   "outputs": [],
   "source": [
    "board.reset()"
   ]
  },
  {
   "cell_type": "code",
   "execution_count": 6,
   "metadata": {},
   "outputs": [
    {
     "name": "stdout",
     "output_type": "stream",
     "text": [
      "\n",
      " x o - \n",
      " - o x \n",
      " - - x \n"
     ]
    }
   ],
   "source": [
    "if board.is_full():\n",
    "    board.reset()\n",
    "    \n",
    "# None or index\n",
    "my_pos =  None\n",
    "if my_pos:\n",
    "    board.add(me, row=my_pos[0], col=my_pos[1])\n",
    "\n",
    "if not board.is_full():\n",
    "    # player 'x' plays\n",
    "    board = player.play(board)\n",
    "\n",
    "board.print()"
   ]
  },
  {
   "cell_type": "code",
   "execution_count": null,
   "metadata": {},
   "outputs": [],
   "source": []
  }
 ],
 "metadata": {
  "kernelspec": {
   "display_name": "Python 3",
   "language": "python",
   "name": "python3"
  },
  "language_info": {
   "codemirror_mode": {
    "name": "ipython",
    "version": 3
   },
   "file_extension": ".py",
   "mimetype": "text/x-python",
   "name": "python",
   "nbconvert_exporter": "python",
   "pygments_lexer": "ipython3",
   "version": "3.6.9"
  }
 },
 "nbformat": 4,
 "nbformat_minor": 4
}
