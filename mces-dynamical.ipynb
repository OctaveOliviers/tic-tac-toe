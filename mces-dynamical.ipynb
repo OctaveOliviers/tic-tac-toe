{
 "cells": [
  {
   "cell_type": "markdown",
   "metadata": {},
   "source": [
    "## Implement Monte Carlo Early Start as dynamical system"
   ]
  },
  {
   "cell_type": "markdown",
   "metadata": {},
   "source": [
    "### Test GraphPlot.jl package"
   ]
  },
  {
   "cell_type": "code",
   "execution_count": null,
   "metadata": {},
   "outputs": [],
   "source": [
    "using LightGraphs\n",
    "using GraphPlot"
   ]
  },
  {
   "cell_type": "code",
   "execution_count": null,
   "metadata": {},
   "outputs": [],
   "source": [
    "# number of states\n",
    "N = 5\n",
    "\n",
    "# mask with network connections\n",
    "M = rand([0, 1], N, N)\n",
    "# reward matrix\n",
    "R = M .* rand(N,N)\n",
    "\n",
    "# construct directed graph\n",
    "g = SimpleDiGraph(N)\n",
    "\n",
    "for i=1:N\n",
    "    for j=1:N\n",
    "        if M[i,j]==1\n",
    "            add_edge!(g, i, j)\n",
    "        end\n",
    "    end\n",
    "end\n",
    "\n",
    "nodelabel = 1:nv(g)\n",
    "edgelabel = 1:LightGraphs.ne(g)\n",
    "\n",
    "gplot(g, nodelabel=nodelabel, edgelabel=edgelabel)"
   ]
  },
  {
   "cell_type": "markdown",
   "metadata": {},
   "source": [
    "### Test POMDPs.jl package"
   ]
  },
  {
   "cell_type": "code",
   "execution_count": null,
   "metadata": {},
   "outputs": [],
   "source": [
    "using POMDPs\n",
    "using POMDPModels\n",
    "using POMDPSimulators\n",
    "using POMDPPolicies"
   ]
  },
  {
   "cell_type": "code",
   "execution_count": null,
   "metadata": {},
   "outputs": [],
   "source": [
    "T = zeros(2,3,2) # |S|x|A|x|S|, T[s', a, s] = p(s'|a,s)\n",
    "T[:,:,1] = [1. 0.5 0.5; \n",
    "            0. 0.5 0.5]\n",
    "T[:,:,2] = [0. 0.5 0.5; \n",
    "            1. 0.5 0.5]\n",
    "\n",
    "# O = zeros(2,3,2) # |O|x|A|x|S|, O[o, a, s] = p(o|a,s)\n",
    "# O[:,:,1] = [0.85 0.5 0.5; \n",
    "#             0.15 0.5 0.5]\n",
    "# O[:,:,2] = [0.15 0.5 0.5; \n",
    "#             0.85 0.5 0.5]\n",
    "\n",
    "R = [-1. -100. 10.; \n",
    "     -1. 10. -100.] # |S|x|A| state-action pair rewards\n",
    "\n",
    "discount = 0.95\n",
    "\n",
    "pomdp = TabularMDP(T, R, discount);\n",
    "\n",
    "\n",
    "# policy that takes a random action\n",
    "policy = RandomPolicy(pomdp)\n",
    "\n",
    "for (s, a, r) in stepthrough(pomdp,policy, \"s,a,r\", max_steps=10)\n",
    "    @show s\n",
    "    @show a\n",
    "    @show r\n",
    "    println()\n",
    "end"
   ]
  },
  {
   "cell_type": "markdown",
   "metadata": {},
   "source": [
    "### Test own Exploring States algorithm"
   ]
  },
  {
   "cell_type": "code",
   "execution_count": null,
   "metadata": {},
   "outputs": [],
   "source": [
    "using Plots"
   ]
  },
  {
   "cell_type": "code",
   "execution_count": null,
   "metadata": {},
   "outputs": [],
   "source": [
    "M = 5\n",
    "gam = 0.9\n",
    "# number of terminal states\n",
    "n_fin = 2\n",
    "\n",
    "R = [ [  0   0   0   0   0] ; \n",
    "      [  0   0   0   0   0] ;\n",
    "      [  0   0   0   0   0] ;\n",
    "      [-10 -10   0   0   0] ;\n",
    "      [  0   0  10   0   0] ]\n",
    "\n",
    "C = [ [ 0 0 1 0 0 ] ;\n",
    "      [ 1 0 0 0 0 ] ;\n",
    "      [ 0 1 0 0 0 ] ;\n",
    "      [ 1 1 0 1 0 ] ;\n",
    "      [ 0 0 1 0 1 ] ]\n",
    "\n",
    "T = [ [ 0 0 0 0 0 ] [ 0 0 0 0 0 ] [ 1 0 0 0 0 ] [ 0 0 0 0 0 ] [ 0 0 0 0 0 ] ;\n",
    "      [ 0 1 0 0 0 ] [ 0 0 0 0 0 ] [ 0 0 0 0 0 ] [ 0 0 0 0 0 ] [ 0 0 0 0 0 ] ;\n",
    "      [ 0 0 0 0 0 ] [ 0 0 1 0 0 ] [ 0 0 0 0 0 ] [ 0 0 0 0 0 ] [ 0 0 0 0 0 ] ;\n",
    "      [ 0 0 0 1 0 ] [ 0 0 0 0 0 ] [ 0 0 0 0 0 ] [ 0 0 0 0 0 ] [ 0 0 0 0 0 ] ;\n",
    "      [ 0 0 0 0 0 ] [ 0 0 0 0 0 ] [ 0 0 0 0 0 ] [ 0 0 0 0 0 ] [ 0 0 0 0 0 ] ]\n"
   ]
  },
  {
   "cell_type": "code",
   "execution_count": null,
   "metadata": {},
   "outputs": [],
   "source": [
    "q = rand(M^2, 1)\n",
    "\n",
    "a = 0."
   ]
  },
  {
   "cell_type": "code",
   "execution_count": null,
   "metadata": {},
   "outputs": [],
   "source": []
  },
  {
   "cell_type": "code",
   "execution_count": null,
   "metadata": {},
   "outputs": [],
   "source": []
  },
  {
   "cell_type": "code",
   "execution_count": null,
   "metadata": {},
   "outputs": [],
   "source": []
  },
  {
   "cell_type": "code",
   "execution_count": null,
   "metadata": {},
   "outputs": [],
   "source": []
  },
  {
   "cell_type": "markdown",
   "metadata": {},
   "source": [
    "#### old test does not work"
   ]
  },
  {
   "cell_type": "code",
   "execution_count": null,
   "metadata": {},
   "outputs": [],
   "source": [
    "# Q = 10 * C .* rand(M,M)\n",
    "Q = 0 * ones(M,M) + C\n",
    "N = zeros(M,M)"
   ]
  },
  {
   "cell_type": "code",
   "execution_count": null,
   "metadata": {},
   "outputs": [],
   "source": [
    "# no exploring states\n",
    "# wrong method that should not converge\n",
    "\n",
    "K = Int(1e5)\n",
    "Q_all = zeros(M,M,K)\n",
    "\n",
    "for k = 1:K\n",
    "   # state matrix\n",
    "    A = zeros(M,M)\n",
    "    vals,inds = findmax(Q, dims=1)\n",
    "    A[inds] .= 1\n",
    "    \n",
    "#     display(\"A: \")\n",
    "#     display(A)\n",
    "    \n",
    "    nz_idx = findall(!iszero, C[:,1:end-n_fin])\n",
    "    i = rand(1:length(nz_idx))\n",
    "    s_t = map( x -> (x==nz_idx[i][2]), 1:M )\n",
    "    u_t = map( x -> (x==nz_idx[i][1]), 1:M ) - A*s_t\n",
    "    N_t = N\n",
    "    E_t = zeros(M,M)\n",
    "    Q_t = Q\n",
    "    \n",
    "    \n",
    "    for t = 1:M\n",
    "\n",
    "        s_tp1 = A*s_t + u_t\n",
    "        \n",
    "       \n",
    "        N_tp1 = N_t + s_tp1*transpose(s_t)\n",
    "\n",
    "#         display(\"N: \")\n",
    "#         display(N_tp1)\n",
    "        \n",
    "        E_tp1 = gam*E_t + s_tp1*transpose(s_t) / (transpose(s_tp1)*N_tp1*s_t)\n",
    "\n",
    "        Q_tp1 = Q_t + ( transpose(s_tp1)*R*s_t +\n",
    "                        gam*transpose(A*s_tp1)*Q*s_tp1 -\n",
    "                        transpose(s_tp1)*Q*s_t ) * E_tp1\n",
    "\n",
    "        s_t, N_t, E_t, Q_t = s_tp1, N_tp1, E_tp1, Q_tp1\n",
    "        u_t = zeros(M)\n",
    "    end\n",
    "\n",
    "    N = N_t\n",
    "    Q = Q_t\n",
    "    \n",
    "    Q_all[:,:,k] = Q\n",
    "end\n",
    "\n",
    "display(Q)"
   ]
  },
  {
   "cell_type": "code",
   "execution_count": null,
   "metadata": {},
   "outputs": [],
   "source": [
    "display(gam*transpose(A*s_tp1)*Q*s_tp1)"
   ]
  },
  {
   "cell_type": "code",
   "execution_count": null,
   "metadata": {},
   "outputs": [],
   "source": [
    "using Plots\n",
    "\n",
    "plot( 1:K, transpose(reshape(Q_all, (M^2,K))) )"
   ]
  },
  {
   "cell_type": "code",
   "execution_count": null,
   "metadata": {},
   "outputs": [],
   "source": []
  }
 ],
 "metadata": {
  "kernelspec": {
   "display_name": "Julia 1.5.2",
   "language": "julia",
   "name": "julia-1.5"
  },
  "language_info": {
   "file_extension": ".jl",
   "mimetype": "application/julia",
   "name": "julia",
   "version": "1.5.2"
  }
 },
 "nbformat": 4,
 "nbformat_minor": 4
}
