{
 "cells": [
  {
   "cell_type": "code",
   "execution_count": 1,
   "metadata": {},
   "outputs": [],
   "source": [
    "import json\n",
    "from board import Board\n",
    "from utils import value_deeper"
   ]
  },
  {
   "cell_type": "code",
   "execution_count": 2,
   "metadata": {},
   "outputs": [],
   "source": [
    "me = 'o'\n",
    "agent = 'x'\n",
    "\n",
    "board = Board(nrow=3, ncol=3, sign_play=[agent,me])\n",
    "\n",
    "order = 2\n",
    "file_name = \"params/conv-values-order-\" + str(order) + \".json\""
   ]
  },
  {
   "cell_type": "code",
   "execution_count": 3,
   "metadata": {},
   "outputs": [],
   "source": [
    "all_values = {}\n",
    "all_values['---------'] = value_deeper(board, agent, order, all_values) "
   ]
  },
  {
   "cell_type": "code",
   "execution_count": 4,
   "metadata": {},
   "outputs": [
    {
     "name": "stdout",
     "output_type": "stream",
     "text": [
      "0.10634920634920642\n",
      "0.10634920634920642\n",
      "0.10634920634920642\n",
      "0.10634920634920642\n",
      "0.10634920634920642\n",
      "0.10634920634920642\n",
      "0.10634920634920642\n",
      "0.10634920634920642\n"
     ]
    }
   ],
   "source": [
    "# for order = 0 expect value = 0.333\n",
    "# for order = 1 expect value = 0.233\n",
    "# for order = 2 expect value = 0.106\n",
    "\n",
    "print(all_values.get('x-o-xx-oo'))\n",
    "print(all_values.get('--xox-oxo'))\n",
    "print(all_values.get('oo-xx-o-x'))\n",
    "print(all_values.get('oxo-xox--'))\n",
    "\n",
    "print(all_values.get('o-xxx-oo-'))\n",
    "print(all_values.get('x---xooxo'))\n",
    "print(all_values.get('-oo-xxx-o'))\n",
    "print(all_values.get('oxoox---x'))"
   ]
  },
  {
   "cell_type": "code",
   "execution_count": 5,
   "metadata": {},
   "outputs": [
    {
     "name": "stdout",
     "output_type": "stream",
     "text": [
      "0.5\n",
      "0.5\n",
      "0.5\n",
      "0.5\n",
      "0.5\n",
      "0.5\n",
      "0.5\n",
      "0.5\n"
     ]
    }
   ],
   "source": [
    "# for order = 0 expect value = 0.75\n",
    "# for order = 1 expect value = 0.5\n",
    "# for order = 2 expect value = 0.5\n",
    "\n",
    "print(all_values.get('o-xxoo-xx'))\n",
    "print(all_values.get('-xoxo-xox'))\n",
    "print(all_values.get('xx-ooxx-o'))\n",
    "print(all_values.get('xox-oxox-'))\n",
    "\n",
    "print(all_values.get('x-oooxxx-'))\n",
    "print(all_values.get('ox--oxxox'))\n",
    "print(all_values.get('-xxxooo-x'))\n",
    "print(all_values.get('xoxxo--xo'))"
   ]
  },
  {
   "cell_type": "code",
   "execution_count": 6,
   "metadata": {},
   "outputs": [
    {
     "name": "stdout",
     "output_type": "stream",
     "text": [
      "0.28393608877599397\n",
      "0.20057493321486308\n",
      "0.28393608877599363\n",
      "0.4939591420265439\n",
      "0.18323071163916804\n",
      "0.20057493321486308\n",
      "0.18323071163916793\n",
      "0.36388724104852077\n"
     ]
    }
   ],
   "source": [
    "print(all_values.get('ox-------'))\n",
    "print(all_values.get('o-x------'))\n",
    "print(all_values.get('o--x-----'))\n",
    "print(all_values.get('o---x----'))\n",
    "print(all_values.get('o----x---'))\n",
    "print(all_values.get('o-----x--'))\n",
    "print(all_values.get('o------x-'))\n",
    "print(all_values.get('o-------x'))"
   ]
  },
  {
   "cell_type": "code",
   "execution_count": 7,
   "metadata": {},
   "outputs": [],
   "source": [
    "# store values\n",
    "file = open(file_name, \"w\")\n",
    "json.dump(all_values, file)\n",
    "file.close()"
   ]
  }
 ],
 "metadata": {
  "kernelspec": {
   "display_name": "Python 3",
   "language": "python",
   "name": "python3"
  },
  "language_info": {
   "codemirror_mode": {
    "name": "ipython",
    "version": 3
   },
   "file_extension": ".py",
   "mimetype": "text/x-python",
   "name": "python",
   "nbconvert_exporter": "python",
   "pygments_lexer": "ipython3",
   "version": "3.6.9"
  }
 },
 "nbformat": 4,
 "nbformat_minor": 4
}
