{
 "cells": [
  {
   "cell_type": "code",
   "execution_count": 1,
   "metadata": {},
   "outputs": [],
   "source": [
    "import json\n",
    "import numpy as np\n",
    "from board import Board\n",
    "from utils import value_deeper"
   ]
  },
  {
   "cell_type": "code",
   "execution_count": 4,
   "metadata": {},
   "outputs": [],
   "source": [
    "me = 'o'\n",
    "agent = 'x'\n",
    "\n",
    "nrow = 5\n",
    "ncol = 5\n",
    "board = Board(nrow=nrow, ncol=ncol, sign_play=[agent,me])\n",
    "\n",
    "order = float('inf')\n",
    "file_name = \"data/values/\" + str(r) + \"x\" + str(c) + \"/order-\" + str(order) + \".json\""
   ]
  },
  {
   "cell_type": "code",
   "execution_count": 3,
   "metadata": {},
   "outputs": [],
   "source": [
    "init = board.get_state()\n",
    "\n",
    "all_values = {}\n",
    "all_values[init] = value_deeper(board, agent, order, all_values) "
   ]
  },
  {
   "cell_type": "code",
   "execution_count": 8,
   "metadata": {},
   "outputs": [
    {
     "name": "stdout",
     "output_type": "stream",
     "text": [
      "5478\n"
     ]
    }
   ],
   "source": [
    "from utils import *\n",
    "\n",
    "save_dict(data=all_values, file_name=file_name)\n",
    "print(len(all_values))"
   ]
  },
  {
   "cell_type": "code",
   "execution_count": 4,
   "metadata": {},
   "outputs": [
    {
     "name": "stdout",
     "output_type": "stream",
     "text": [
      "0.0\n",
      "0.0\n",
      "0.0\n",
      "0.0\n",
      "0.0\n",
      "0.0\n",
      "0.0\n",
      "0.0\n"
     ]
    }
   ],
   "source": [
    "# for order = 0 expect value = 0.333\n",
    "# for order = 1 expect value = 0.233\n",
    "# for order = 2 expect value = 0.106\n",
    "\n",
    "print(all_values.get('x-o-xx-oo'))\n",
    "print(all_values.get('--xox-oxo'))\n",
    "print(all_values.get('oo-xx-o-x'))\n",
    "print(all_values.get('oxo-xox--'))\n",
    "\n",
    "print(all_values.get('o-xxx-oo-'))\n",
    "print(all_values.get('x---xooxo'))\n",
    "print(all_values.get('-oo-xxx-o'))\n",
    "print(all_values.get('oxoox---x'))"
   ]
  },
  {
   "cell_type": "code",
   "execution_count": 5,
   "metadata": {},
   "outputs": [
    {
     "name": "stdout",
     "output_type": "stream",
     "text": [
      "0.5\n",
      "0.5\n",
      "0.5\n",
      "0.5\n",
      "0.5\n",
      "0.5\n",
      "0.5\n",
      "0.5\n"
     ]
    }
   ],
   "source": [
    "# for order = 0 expect value = 0.75\n",
    "# for order = 1 expect value = 0.5\n",
    "# for order = 2 expect value = 0.5\n",
    "\n",
    "print(all_values.get('o-xxoo-xx'))\n",
    "print(all_values.get('-xoxo-xox'))\n",
    "print(all_values.get('xx-ooxx-o'))\n",
    "print(all_values.get('xox-oxox-'))\n",
    "\n",
    "print(all_values.get('x-oooxxx-'))\n",
    "print(all_values.get('ox--oxxox'))\n",
    "print(all_values.get('-xxxooo-x'))\n",
    "print(all_values.get('xoxxo--xo'))"
   ]
  },
  {
   "cell_type": "code",
   "execution_count": 6,
   "metadata": {},
   "outputs": [
    {
     "name": "stdout",
     "output_type": "stream",
     "text": [
      "0.0\n",
      "0.0\n",
      "0.0\n",
      "0.5000000000000001\n",
      "0.0\n",
      "0.0\n",
      "0.0\n",
      "0.0\n"
     ]
    }
   ],
   "source": [
    "print(all_values.get('ox-------'))\n",
    "print(all_values.get('o-x------'))\n",
    "print(all_values.get('o--x-----'))\n",
    "print(all_values.get('o---x----'))\n",
    "print(all_values.get('o----x---'))\n",
    "print(all_values.get('o-----x--'))\n",
    "print(all_values.get('o------x-'))\n",
    "print(all_values.get('o-------x'))"
   ]
  },
  {
   "cell_type": "code",
   "execution_count": 7,
   "metadata": {},
   "outputs": [
    {
     "name": "stdout",
     "output_type": "stream",
     "text": [
      "0.4999999999999998\n"
     ]
    }
   ],
   "source": [
    "print(all_values.get('---------'))"
   ]
  },
  {
   "cell_type": "code",
   "execution_count": null,
   "metadata": {},
   "outputs": [],
   "source": []
  },
  {
   "cell_type": "code",
   "execution_count": 5,
   "metadata": {},
   "outputs": [
    {
     "data": {
      "text/plain": [
       "9"
      ]
     },
     "execution_count": 5,
     "metadata": {},
     "output_type": "execute_result"
    }
   ],
   "source": [
    "len(board.get_free_positions())"
   ]
  },
  {
   "cell_type": "code",
   "execution_count": null,
   "metadata": {},
   "outputs": [],
   "source": []
  },
  {
   "cell_type": "code",
   "execution_count": null,
   "metadata": {},
   "outputs": [],
   "source": []
  },
  {
   "cell_type": "code",
   "execution_count": null,
   "metadata": {},
   "outputs": [],
   "source": [
    "import numpy as np\n",
    "import math"
   ]
  },
  {
   "cell_type": "code",
   "execution_count": null,
   "metadata": {},
   "outputs": [],
   "source": [
    "count = 0\n",
    "mean  = 0\n",
    "var   = 0\n",
    "\n",
    "num = 10000\n",
    "m = 3\n",
    "s = 2.5\n",
    "\n",
    "a = m + s*np.random.randn(num,1)\n",
    "\n",
    "print(np.mean(a))\n",
    "print(np.std(a))\n",
    "\n",
    "for i in range(num):\n",
    "    err  = a[i]\n",
    "    # update mean and variance\n",
    "    count += 1\n",
    "    mean_prev = mean\n",
    "    mean += (err-mean_prev)/count\n",
    "    var += (err-mean_prev)*(err-mean)\n",
    "    \n",
    "# return mean and standard deviation\n",
    "print(mean)\n",
    "print(math.sqrt(var/(count-1)))"
   ]
  },
  {
   "cell_type": "code",
   "execution_count": null,
   "metadata": {},
   "outputs": [],
   "source": [
    "count"
   ]
  }
 ],
 "metadata": {
  "kernelspec": {
   "display_name": "Python 3",
   "language": "python",
   "name": "python3"
  },
  "language_info": {
   "codemirror_mode": {
    "name": "ipython",
    "version": 3
   },
   "file_extension": ".py",
   "mimetype": "text/x-python",
   "name": "python",
   "nbconvert_exporter": "python",
   "pygments_lexer": "ipython3",
   "version": "3.6.9"
  }
 },
 "nbformat": 4,
 "nbformat_minor": 4
}
