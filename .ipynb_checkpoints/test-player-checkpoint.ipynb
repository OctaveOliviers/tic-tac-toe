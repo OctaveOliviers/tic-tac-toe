{
 "cells": [
  {
   "cell_type": "markdown",
   "metadata": {},
   "source": [
    "### Import useful libraries"
   ]
  },
  {
   "cell_type": "code",
   "execution_count": 1,
   "metadata": {},
   "outputs": [],
   "source": [
    "import random\n",
    "from datetime import datetime\n",
    "from tqdm import trange\n",
    "from board import Board\n",
    "from player import Player"
   ]
  },
  {
   "cell_type": "markdown",
   "metadata": {},
   "source": [
    "### Test if the player learned the optimal strategy"
   ]
  },
  {
   "cell_type": "code",
   "execution_count": 2,
   "metadata": {},
   "outputs": [],
   "source": [
    "me     = 'o'\n",
    "agent  = 'x'\n",
    "\n",
    "board  = Board(nrow=3, ncol=3, sign_play=[agent,me])\n",
    "player = Player(sign=agent)"
   ]
  },
  {
   "cell_type": "code",
   "execution_count": 3,
   "metadata": {},
   "outputs": [],
   "source": [
    "player.load_args(\"params/player-201024-1843\")\n",
    "player.playing_mode()\n",
    "# player.training_mode()"
   ]
  },
  {
   "cell_type": "code",
   "execution_count": 4,
   "metadata": {},
   "outputs": [
    {
     "name": "stderr",
     "output_type": "stream",
     "text": [
      "100%|██████████| 1000/1000 [00:09<00:00, 110.76it/s]"
     ]
    },
    {
     "name": "stdout",
     "output_type": "stream",
     "text": [
      "Finished testing\n",
      "   number of draws :  1000  of  1000\n"
     ]
    },
    {
     "name": "stderr",
     "output_type": "stream",
     "text": [
      "\n"
     ]
    }
   ],
   "source": [
    "# number of testing matches\n",
    "num_test = 1000\n",
    "# number of matches that finished in a draw\n",
    "num_draw = 0\n",
    "\n",
    "for n in trange(num_test):\n",
    "    # reset board for new game\n",
    "    board.reset()\n",
    "    \n",
    "    if random.random() < 0.5:\n",
    "        # start in random location\n",
    "        i = random.choices(range(board.get_nrow()))[0]\n",
    "        j = random.choices(range(board.get_nrow()))[0]\n",
    "        board.add(me, row=i, col=j)\n",
    "\n",
    "    # assume the game will end in a draw\n",
    "    num_draw += 1\n",
    "    while not board.is_full():\n",
    "        # RL agent chooses an action\n",
    "        action = player.choose_action(board)\n",
    "        # update board\n",
    "        board.add(sign=agent, row=action[0], col=action[1])\n",
    "        # check if RL agent won\n",
    "        if board.is_won(): \n",
    "            num_draw -= 1\n",
    "            break\n",
    "        # if nobody won yet, inverse the board\n",
    "        board.inverse()\n",
    "\n",
    "print(\"Finished testing\")\n",
    "print('   number of draws : ', num_draw, \" of \", num_test)"
   ]
  },
  {
   "cell_type": "markdown",
   "metadata": {},
   "source": [
    "### Play against it"
   ]
  },
  {
   "cell_type": "code",
   "execution_count": null,
   "metadata": {},
   "outputs": [],
   "source": [
    "board.reset()"
   ]
  },
  {
   "cell_type": "code",
   "execution_count": null,
   "metadata": {},
   "outputs": [],
   "source": [
    "if board.is_full():\n",
    "    board.reset()\n",
    "    \n",
    "# None or array [row,col]\n",
    "my_pos = [0,2]\n",
    "if my_pos:\n",
    "    board.add(me, row=my_pos[0], col=my_pos[1])\n",
    "\n",
    "if (not board.is_full()) and (not board.is_won()):\n",
    "    # player 'x' plays\n",
    "    board = player.play(board)\n",
    "\n",
    "board.print()"
   ]
  },
  {
   "cell_type": "code",
   "execution_count": null,
   "metadata": {},
   "outputs": [],
   "source": [
    "print(player.get_value('o---x-ox-'))\n",
    "print(player.get_value('o-oxx----'))\n",
    "print(player.get_value('-xo-x---o'))\n",
    "print(player.get_value('----xxo-o'))\n",
    "\n",
    "print(player.get_value('ox--x-o--'))\n",
    "print(player.get_value('---xx-o-o'))\n",
    "print(player.get_value('--o-x--xo'))\n",
    "print(player.get_value('o-o-xx---'))"
   ]
  },
  {
   "cell_type": "code",
   "execution_count": 5,
   "metadata": {},
   "outputs": [
    {
     "name": "stdout",
     "output_type": "stream",
     "text": [
      "0.0767910525452571\n",
      "0.10399488213133395\n",
      "0.10164645647419712\n",
      "0.12159711487815734\n",
      "0.11376187875602344\n",
      "0.09829405809210223\n",
      "0.07578952267944453\n",
      "0.0879359430425063\n"
     ]
    }
   ],
   "source": [
    "# for order = 0 expect value = 0.333\n",
    "# for order = 1 expect value = 0.233\n",
    "# for order = 1 expect value = 0.106\n",
    "\n",
    "print(player.get_value('x-o-xx-oo'))\n",
    "print(player.get_value('--xox-oxo'))\n",
    "print(player.get_value('oo-xx-o-x'))\n",
    "print(player.get_value('oxo-xox--'))\n",
    "\n",
    "print(player.get_value('o-xxx-oo-'))\n",
    "print(player.get_value('x---xooxo'))\n",
    "print(player.get_value('-oo-xxx-o'))\n",
    "print(player.get_value('oxoox---x'))"
   ]
  },
  {
   "cell_type": "code",
   "execution_count": null,
   "metadata": {},
   "outputs": [],
   "source": [
    "# for order = 0 expect value = 0.75\n",
    "# for order = 1 expect value = 0.5\n",
    "\n",
    "print(player.get_value('o-xxoo-xx'))\n",
    "print(player.get_value('-xoxo-xox'))\n",
    "print(player.get_value('xx-ooxx-o'))\n",
    "print(player.get_value('xox-oxox-'))\n",
    "\n",
    "print(player.get_value('x-oooxxx-'))\n",
    "print(player.get_value('ox--oxxox'))\n",
    "print(player.get_value('-xxxooo-x'))\n",
    "print(player.get_value('xoxxo--xo'))"
   ]
  },
  {
   "cell_type": "code",
   "execution_count": null,
   "metadata": {},
   "outputs": [],
   "source": [
    "# for order = 0 expect value = 0\n",
    "\n",
    "print(player.get_value('xxooxx-oo'))"
   ]
  }
 ],
 "metadata": {
  "kernelspec": {
   "display_name": "Python 3",
   "language": "python",
   "name": "python3"
  },
  "language_info": {
   "codemirror_mode": {
    "name": "ipython",
    "version": 3
   },
   "file_extension": ".py",
   "mimetype": "text/x-python",
   "name": "python",
   "nbconvert_exporter": "python",
   "pygments_lexer": "ipython3",
   "version": "3.6.9"
  }
 },
 "nbformat": 4,
 "nbformat_minor": 4
}
